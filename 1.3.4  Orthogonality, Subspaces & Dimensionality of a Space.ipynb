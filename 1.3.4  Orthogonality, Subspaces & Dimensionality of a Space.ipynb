{
 "cells": [
  {
   "cell_type": "markdown",
   "metadata": {},
   "source": [
    "### Dimensionality$\\newcommand{\\braket}[2]{\\left\\langle{#1\\;}\\middle|{\\;#2}\\right\\rangle}$$\\newcommand{\\ket}[1]{\\left|{#1}\\right\\rangle}$$\\newcommand{\\bra}[1]{\\left\\langle{#1}\\right|}$$\\newcommand{\\uvec}[1]{\\boldsymbol{\\hat{\\textbf{\\ket{#1}}}}}$$\\newcommand{\\norm}[1]{\\left\\lVert#1\\right\\rVert}$$\\newcommand{\\vectorproj}[2][]{\\textit{proj}_{\\vect{#1}}\\vect{#2}}$ $\\newcommand{\\vect}{\\mathbf}$\n",
    "*Definition 1*: Two vectors $\\ket{V} = \\sum_{i}v_i\\ket{\\:i}$ and $\\ket{W} = \\sum_{i}w_i\\ket{\\:i}$ are said to be orthogonal if their inner product $\\braket{V}{W}$ is zero.\n",
    "<!--  -->\n",
    "This is intuitive since it corresponds to our current understanding of vectors as arrows with a direction and magnitude.\n",
    "<!--  -->\n",
    "*Definition 2:* The dimensionality of a space equals $n_\\perp$, which is the maximum number of mutually orthogonal vectors."
   ]
  },
  {
   "cell_type": "markdown",
   "metadata": {},
   "source": [
    "Any mutually orthogonal set must be linearly independent. For example, let us take a linear combination of $n$ mutually orthogonal vectors adding up to zero as follows: \n",
    "<!--  -->\n",
    "$$\\ket{V_1} + \\ket{V_2} + ...\\ket{V_n} = \\ket{0} $$ \n",
    "<!--  -->\n",
    "where any $\\ket{V_i}$ is orthogonal to a given $\\ket{V_j}$ for $i \\neq j$. Taking the dot product of any one of these vectors on both side yields:\n",
    "<!--  -->\n",
    "$$\\braket{V_i}{V_1} + \\braket{V_i}{V_2} + ...\\braket{V_i}{V_n} = \\braket{V_i}{0} $$ \n",
    "$$\\braket{V_i}{V_i} = \\braket{V_i}{0} $$ since $$\\braket{i}{j} = \n",
    "    \\begin{cases}\n",
    "      1 & \\text{if $i = j$}\\\\\n",
    "      0 & \\text{if $i \\neq j$}\n",
    "    \\end{cases}\n",
    "    \\equiv \\delta_{ij}$$\n",
    "<!--      -->\n",
    "Simplifying, we get:\n",
    "$$\\sum_{k}{|v_k|}^2\\ket{\\:i} = \\sum_{k}v_k^\\ast\\braket{\\:i}{0}$$ \n",
    "<!--  -->\n",
    "$$ \\qquad\\quad= \\;\\sum_{k}{0}\\ket{\\:i}$$\n",
    "<!--  -->\n",
    "Therefore, for the above statement to be true, ${v_k} = {0} \\;\\forall\\;{k}$. Since we can simply repeat this exercise for all $i$ in the set, this linear combination is trivial. *You **can not** non-trivially construct the zero vector from a mutually orthogonal set*! Therefore, a mutually orthogonal set is linearly independent. Recall, the definition of a linearly independent set of vectors $\\ket{1}$, $\\ket{2}$, $...\\ket{n}$ is:\n",
    "<!--  -->\n",
    "$$ \\sum_{i}^{n} {a_i}\\ket{\\:i} = \\ket{\\:0}$$\n",
    "<!--  -->\n",
    "The dimensionality of the space cannot be greater than $n$ (that is, $n_\\perp \\ngeqslant n$) since that means the vectors are not linearly independent. Gram-Schmidt procedure tells us that if a space is created from $n_\\perp < n$ mutually orthogonal set of vectors then we can simply construct a higher dimension of space where $n_\\perp = n$."
   ]
  },
  {
   "cell_type": "markdown",
   "metadata": {},
   "source": [
    "If you are yet to be convinced..."
   ]
  },
  {
   "cell_type": "code",
   "execution_count": 1,
   "metadata": {},
   "outputs": [
    {
     "data": {
      "image/png": "[encoded data removed]",
      "text/plain": [
       "<Figure size 648x360 with 1 Axes>"
      ]
     },
     "metadata": {
      "needs_background": "light"
     },
     "output_type": "display_data"
    }
   ],
   "source": [
    "# Take two orthogonal vectors |A> and |B> in R^2 and find a way (geometrically or otherwise) \n",
    "# to make them add to the zero vector |0>\n",
    "from useful_fxns import plot_vec2d\n",
    "import numpy as np\n",
    "\n",
    "A = np.array([1, 0])\n",
    "B = np.array([0, 1])\n",
    "\n",
    "vectors = [A, B]\n",
    "labels = [r'$\\ket{A}$', r'$\\ket{B}$']\n",
    "\n",
    "plot_vec2d(vectors, labels)"
   ]
  },
  {
   "cell_type": "markdown",
   "metadata": {},
   "source": [
    "### Subspaces\n",
    "We define now what a subspace is and what it means to add two subspaces together.\n",
    "\n",
    "*Definition 3*: Given a vector space $\\mathbb{V}$, a subset of its elements that form a vector space among themselves is called a *subspace* with the notation $\\mathbb{V}_i^{n_i}$.\n",
    "\n",
    "*Definition 4*: Given two subspaces $\\mathbb{V}_i^{n_i}$ and $\\mathbb{V}_j^{m_j}$, their sum $\\mathbb{V}_i^{n_i}\\oplus \\mathbb{V}_i^{m_j}$ is another set that contains:\n",
    "1. All elements of $\\mathbb{V}_i^{n_i}$\n",
    "2. All elements of $\\mathbb{V}_j^{m_j}$\n",
    "3. All possible linear combinations of the above elements.\n",
    "\n",
    "Note that a subspace must still follow the rules of a vector space. Meaning it must contain the zero vector $\\ket{0}$, closure under scalar multiplication, and closure under addition(including the additive inverse of its elements). The half-plane and empty set fail this requirement!"
   ]
  },
  {
   "cell_type": "markdown",
   "metadata": {},
   "source": [
    "Example 1: In a space $\\mathbb{V^n}$, prove that the set of all vectors $\\big\\{\\ket{V_\\perp^{1}},\\ket{V_\\perp^{2}},...\\big\\}$, orthogonal to any $\\ket{V} \\neq \\ket{0}$, form a subspace $\\mathbb{V^{n-1}}$.\n"
   ]
  },
  {
   "cell_type": "markdown",
   "metadata": {},
   "source": [
    "If the set is orthogonal to any $\\ket{V} \\in \\mathbb{V^n}$ then the set contains a total of $n-1$ mutually orthogonal vectors. Furthermore, using *Definition 2*, the dimensionality of the of a subspace is given by the maximum number of mutually orthogonal vectors. So if the set of all vectors $\\big\\{\\ket{V_\\perp^{1}},\\ket{V_\\perp^{2}},...\\big\\}$ contains $n-1$ mutually orthogonal vectors, then they form a space of dimensionality $\\mathbb{V^{n-1}}$."
   ]
  },
  {
   "cell_type": "markdown",
   "metadata": {},
   "source": [
    "Example 2:\n",
    "Suppose $\\mathbb{V}_1^{n_1}$ and $\\mathbb{V}_2^{n_2}$ are two subspaces such that any element of $\\mathbb{V_1}$ is orthogonal to any element of $\\mathbb{V_2}$. Show that the dimensionality of $\\mathbb{V_1}\\oplus\\mathbb{V_2}$ is $n_1 + n_2$."
   ]
  },
  {
   "cell_type": "markdown",
   "metadata": {},
   "source": [
    "To fit the definition of vector space, suppose that $\\mathbb{V_1}$ contains some mutually orthogonal vectors $\\big\\{\\ket{V_\\perp^{1,1}},\\ket{V_\\perp^{1,2}},...\\ket{V_\\perp^{1,n_1}}\\big\\}$ and some vectors that can be expressed as a linear combination of the mutually orthogonal vectors $\\{\\ket{I}, \\ket{II}, ...\\}$. The same procedure can be performed for $\\mathbb{V_2}$. This implies that even though both types of vectors in $\\mathbb{V_1}$ are orthogonal to all vectors in $\\mathbb{V_1}$, only $\\big\\{\\ket{V_\\perp^{1,1}},\\ket{V_\\perp^{1,2}},...\\ket{V_\\perp^{1,n_1}}\\big\\}$ in $\\mathbb{V_1}$ and $\\big\\{\\ket{V_\\perp^{2,1}},\\ket{V_\\perp^{2,2}},...\\ket{V_\\perp^{2,n_2}}\\big\\}$ in $\\mathbb{V_2}$ are mutually perpendicular.\n",
    "\n",
    "Once again using *Definition 2*, the dimensionality of the of a subspace is given by the maximum number of mutually orthogonal vectors. Since $\\mathbb{V_1}\\oplus\\mathbb{V_2}$ contains all the elements of $\\mathbb{V_1}$ and $\\mathbb{V_2}$ (*Definition 4*), we can say that $\\mathbb{V_1}\\oplus\\mathbb{V_2}$ contains $n_1 + n_2$ mutually orthogonal vectors. Therefore, the dimensionality of $\\mathbb{V_1}\\oplus\\mathbb{V_2}$ is $n_1 + n_2$."
   ]
  },
  {
   "cell_type": "markdown",
   "metadata": {},
   "source": []
  }
 ],
 "metadata": {
  "kernelspec": {
   "display_name": "Python 3",
   "language": "python",
   "name": "python3"
  },
  "language_info": {
   "codemirror_mode": {
    "name": "ipython",
    "version": 3
   },
   "file_extension": ".py",
   "mimetype": "text/x-python",
   "name": "python",
   "nbconvert_exporter": "python",
   "pygments_lexer": "ipython3",
   "version": "3.8.3"
  }
 },
 "nbformat": 4,
 "nbformat_minor": 4
}
