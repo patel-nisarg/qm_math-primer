{
 "cells": [
  {
   "cell_type": "markdown",
   "metadata": {},
   "source": [
    "### Schwarz Inequality$\\newcommand{\\braket}[2]{\\left\\langle{#1\\;}\\middle|{\\;#2}\\right\\rangle}$$\\newcommand{\\ket}[1]{\\left|{#1}\\right\\rangle}$$\\newcommand{\\bra}[1]{\\left\\langle{#1}\\right|}$$\\newcommand{\\uvec}[1]{\\boldsymbol{\\hat{\\textbf{\\ket{#1}}}}}$$\\newcommand{\\norm}[1]{\\left\\lVert#1\\right\\rVert}$$\\newcommand{\\vectorproj}[2][]{\\textit{proj}_{\\vect{#1}}\\vect{#2}}$ $\\newcommand{\\vect}{\\mathbf}$\n",
    "\n",
    "The product of the magnitude of the norm of two vectors is greater than or equal to the magnitude of the inner product. That is, \n",
    "<!--  -->\n",
    "$$|\\braket{V}{W}| \\leqslant{|V|}{|W|} $$\n",
    "<!--  -->\n",
    "or by squaring both sides,$$ \\braket{V}{V}\\braket{W}{W} \\geqslant{\\braket{W}{V}\\braket{V}{W}}$$\n",
    "<!--  -->\n",
    "##### *Proof*:\n",
    "Start with\n",
    "<!--  -->\n",
    "$$ \\ket{Z} = \\ket{V} - \\frac{{\\braket{W}{V}}}{|W|^2}\\ket{W}$$\n",
    "<!--  -->\n",
    "Here we have taken $\\ket{Z}$ as the difference between $\\ket{V}$ and the projection vector of $\\ket{V}$ on to $\\ket{W}$. Next, taking the inner product of $\\ket{Z}$ on both sides, we get\n",
    "<!--  -->\n",
    "$$ \\braket{Z}{Z} = \\braket{\\ket{V} - \\frac{{\\braket{W}{V}}}{|W|^2}\\ket{W}}{\\ket{V} - \\frac{{\\braket{W}{V}}}{|W|^2}\\ket{W}}$$\n",
    "<!--  -->\n",
    "$$=\\braket{V}{V}-\\frac{{\\braket{W}{V}\\braket{V}{W}}}{|W|^2}-\\frac{{\\braket{W}{V}^*\\braket{W}{V}}}{|W|^2} +\\frac{{\\braket{W}{V}^*\\braket{W}{V}}\\braket{W}{W}}{|W|^4} $$\n",
    "<!--  -->\n",
    "$$=\\braket{V}{V}-\\frac{{\\braket{W}{V}\\braket{V}{W}}}{|W|^2}-\\frac{{\\braket{V}{W}\\braket{W}{V}}}{|W|^2} +\\frac{{\\braket{W}{V}^*\\braket{W}{V}}\\braket{W}{W}}{|W|^4} $$\n",
    "<!--  -->\n",
    "$$=\\braket{V}{V}-2\\frac{{\\braket{W}{V}\\braket{V}{W}}}{|W|^2} +\\frac{{\\braket{V}{W}\\braket{W}{V}}}{|W|^2} $$\n",
    "<!--  -->\n",
    "$$=\\braket{V}{V}-\\frac{{\\braket{W}{V}\\braket{V}{W}}}{|W|^2}$$\n",
    "$$\\geqslant 0$$\n",
    "<!--  -->\n",
    "Since $\\braket{Z}{Z} \\geqslant 0$. Therefore,\n",
    "$$ \\braket{V}{V} \\geqslant \\frac{{\\braket{W}{V}\\braket{V}{W}}}{|W|^2}$$\n",
    "<!--  -->\n",
    "$$ \\braket{V}{V}\\braket{W}{W} \\geqslant{\\braket{W}{V}\\braket{V}{W}}$$\n",
    "<!--  -->\n",
    "$$$$\n",
    "If you are confused, the operations done above are simply a form of $\\vec{C} \\cdot \\vec{C}$, where $\\vec{C} = (a\\vec{X} + \\vec{B})$. This dot product expansion is the same as the above.\n",
    "##### *Geometric Interpretation*:\n",
    "\n",
    "While we have proven the inequality via axioms, we can also observe this geometrically with arrows by taking the scenerio where we get the maximum value of the inner product. Given vectors $\\ket{V}=[2, 3]$ with $|V| = \\sqrt{13}$ and $\\ket{W}=[1, 3]$ with $|W| = \\sqrt{10}$, we obtain an inner product $\\braket{V}{W} = 2 + 9 = 11$. Lastly, we get $|V||W| = \\sqrt{130}$"
   ]
  },
  {
   "cell_type": "code",
   "execution_count": 9,
   "metadata": {},
   "outputs": [
    {
     "data": {
      "image/png": "[encoded data removed]",
      "text/plain": [
       "<Figure size 648x360 with 1 Axes>"
      ]
     },
     "metadata": {
      "needs_background": "light"
     },
     "output_type": "display_data"
    }
   ],
   "source": [
    "import numpy as np\n",
    "from useful_fxns import plot_vec2d\n",
    "\n",
    "V = np.array([[0, 0], [np.sqrt(13), 0]])\n",
    "W = np.array([[0, 2], [np.sqrt(10), 0]])\n",
    "V_W = np.array([[0, 4], [11, 0]])\n",
    "V_m_W = np.array([[0, 4.5], [np.sqrt(130), 0]])\n",
    "\n",
    "vectors = [V, W, V_W, V_m_W]\n",
    "labels = [r'$|V|$',r'$|W|$',r'$\\braket{V}{W}$' ,r'$|V||W|$']\n",
    "\n",
    "plot_vec2d(vectors, labels, x_given=True)"
   ]
  },
  {
   "cell_type": "markdown",
   "metadata": {},
   "source": [
    "However, we need not limit ourselves to arrows for a geometrical interpretation. We can take arbritrary polynomial functions such as $\\ket{V} = x^4 + 2x^3 + x^2 + 1 \\quad\\forall x \\in \\{0, L\\}$ or even periodic functions such as $\\ket{W} = \\sin^2{(2 x+\\frac{\\pi}{3})} \\quad\\forall x \\in \\{0, L\\}$ that also obey the rules of vectors. The Schwarz Inequality must hold true for these as well."
   ]
  },
  {
   "cell_type": "markdown",
   "metadata": {},
   "source": [
    "Notice that they need not be orthonormal vectors for this to be true."
   ]
  },
  {
   "cell_type": "markdown",
   "metadata": {},
   "source": [
    "### Triangle Inequality\n",
    "The triangle inequality states that the *length of $\\ket{V}$ and $\\ket{W}$ must be greater than length of their vector sum $\\ket{V+W}$*. In other words,\n",
    "<!--  -->\n",
    "$$ |V+W| \\leqslant |V| + |W|$$\n",
    "<!--  -->\n",
    "To prove this, let us start with $|V + W|^2$. Given that $\\ket{V}$ and $\\ket{W}$ are provided by complex numbers $a + bi$ and $c + di$, we find the following to be true\n",
    "<!--  -->\n",
    "$$\\begin{align}\n",
    "|V+W|^2 &= (V+W)(V+W^*)  \\\\\n",
    "& = \\Big((a+c)+i(b+d)\\Big)\\Big((a+c)-i(b+d)\\Big) \\\\\n",
    "& = a^2 + c^2 + 2ac + d^2 + b^2 + 2bd  \\\\\n",
    "& = (a^2 + b^2) + (c^2 + d^2) + 2(ac + bd)  \\\\\n",
    "& = |V|^2 + |W|^2 + 2Re(VW^*)\n",
    "\\end{align} $$\n",
    "<!--  -->\n",
    "So how did we get that third term? Lets expand the multiplication and check if it retrievable.\n",
    "<!--  -->\n",
    "$$\\begin{align}\n",
    "VW^* &= (a+bi)(c-di) \\\\\n",
    "&= ac - adi + bci + bd  \\\\\n",
    "&= ac + bd + i(bc-ad)\n",
    "\\end{align}$$\n",
    "<!--  -->\n",
    "Now, we know that $|V||W| = VW^* = \\braket{V}{W} \\geqslant Re\\braket{V}{W}$. So we can make the substitution\n",
    "<!--  -->\n",
    "$$\\begin{align}\n",
    "|V+W|^2 &= |V|^2 + |W|^2 + 2Re(VW^*) \\\\\n",
    "& \\leqslant |V|^2 + |W|^2 + 2|V||W|  \\\\\n",
    "& = \\Big(|V| + |W|\\Big)^2\n",
    "\\end{align} $$\n",
    "<!--  -->\n",
    "Therefore, $ |V+W|^2\\leqslant \\Big(|V| + |W|\\Big)^2$ and $ |V+W|\\leqslant |V|^2 + |W|^2$."
   ]
  },
  {
   "cell_type": "markdown",
   "metadata": {},
   "source": [
    "##### *Geometric Interpretation*:\n",
    "\n",
    "We can take the same vector magnitudes $|V| = \\sqrt{13}$ and $|W| = \\sqrt{10}$ from above and compute the magnitute of their vector sums to be $|V + W| = \\sqrt{45}$."
   ]
  },
  {
   "cell_type": "code",
   "execution_count": 10,
   "metadata": {},
   "outputs": [
    {
     "data": {
      "image/png": "[encoded data removed]",
      "text/plain": [
       "<Figure size 648x360 with 1 Axes>"
      ]
     },
     "metadata": {
      "needs_background": "light"
     },
     "output_type": "display_data"
    }
   ],
   "source": [
    "VpW = np.array([[0, 4], [np.sqrt(45), 0]])\n",
    "sVpW = np.array([[0, 4.5], [np.sqrt(13)+ np.sqrt(10), 0]])\n",
    "\n",
    "vectors = [V, W, VpW, sVpW]\n",
    "labels = [r'$|V|$',r'$|W|$', r'$|V + W|$', r'$|V| + |W|$']\n",
    "\n",
    "plot_vec2d(vectors, labels, x_given=True)"
   ]
  },
  {
   "cell_type": "markdown",
   "metadata": {},
   "source": []
  }
 ],
 "metadata": {
  "kernelspec": {
   "display_name": "Python 3",
   "language": "python",
   "name": "python3"
  },
  "language_info": {
   "codemirror_mode": {
    "name": "ipython",
    "version": 3
   },
   "file_extension": ".py",
   "mimetype": "text/x-python",
   "name": "python",
   "nbconvert_exporter": "python",
   "pygments_lexer": "ipython3",
   "version": "3.8.3"
  }
 },
 "nbformat": 4,
 "nbformat_minor": 4
}
