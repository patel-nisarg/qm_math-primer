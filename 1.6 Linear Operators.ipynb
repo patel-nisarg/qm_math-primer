{
 "cells": [
  {
   "cell_type": "markdown",
   "metadata": {},
   "source": [
    "What is a linear operator?\n",
    "    "
   ]
  },
  {
   "cell_type": "markdown",
   "metadata": {},
   "source": [
    "Rules of linear operators:"
   ]
  },
  {
   "cell_type": "markdown",
   "metadata": {},
   "source": [
    "Rotation operators as linear operators"
   ]
  },
  {
   "cell_type": "markdown",
   "metadata": {},
   "source": [
    "Product of operators"
   ]
  },
  {
   "cell_type": "markdown",
   "metadata": {},
   "source": [
    "Commutators"
   ]
  },
  {
   "cell_type": "markdown",
   "metadata": {},
   "source": [
    "Matrix Elements of Linear Operators$\\newcommand{\\braket}[2]{\\left\\langle{#1\\;}\\middle|{\\;#2}\\right\\rangle}$$\\newcommand{\\ket}[1]{\\left|{#1}\\right\\rangle}$$\\newcommand{\\bra}[1]{\\left\\langle{#1}\\right|}$$\\newcommand{\\uvec}[1]{\\boldsymbol{\\hat{\\textbf{\\ket{#1}}}}}$$\\newcommand{\\norm}[1]{\\left\\lVert#1\\right\\rVert}$$\\newcommand{\\vectorproj}[2][]{\\textit{proj}_{\\vect{#1}}\\vect{#2}}$ $\\newcommand{\\vect}{\\mathbf}$\n",
    "\n",
    "We know a vector $\\ket{V}$ can be expressed by its components as such $\\ket{V} = \\sum_{i}^{n} v_i\\ket{i}$. Similarly, we can represent a linear operator $\\Omega$ as the inner product between the previous basis and the new basis of a vector space. $\\Omega$ acts as an instruction set on how to transform a basis of a vector space where each element of $\\Omega$ can be represented as $\\braket{j}{i'}= \\Omega_{ji} = \\bra{j}{\\Omega}\\ket{i}$. Therefore, $\\Omega$ acts as a recipe for telling us how we should transform a basis vector $\\ket{i}$ to $\\ket{i'}$ by providing the components of $\\ket{i'}$ in the origional (pre-transformation) basis.\n",
    "\n",
    "$$\n",
    "\\begin{align}\n",
    "    \\left[\\begin{array}{@{}c@{}}\n",
    "    v'_{1} \\\\\n",
    "    v'_{2} \\\\\n",
    "    \\vdots \\\\\n",
    "    v'_{n} \n",
    "    \\end{array} \\right] &=\n",
    "    \\begin{bmatrix}\n",
    "    \\bra{1}\\Omega\\ket{1} & \\bra{1}\\Omega\\ket{2} & ... & \\bra{1}\\Omega\\ket{n} \\\\\n",
    "    \\bra{2}\\Omega\\ket{1} & {} & {} \\\\\n",
    "    \\vdots & {} & {} & \\vdots\\\\\n",
    "    \\bra{n}\\Omega\\ket{1} & ... & {} & {} \\bra{n}\\Omega\\ket{n}\n",
    "    \\end{bmatrix}\n",
    "    \\left[\\begin{array}{@{}c@{}}\n",
    "    v_{1} \\\\\n",
    "    v_{2} \\\\\n",
    "    \\vdots \\\\\n",
    "    v_{n} \n",
    "    \\end{array} \\right]\n",
    "  \\end{align}\n",
    "$$"
   ]
  },
  {
   "cell_type": "markdown",
   "metadata": {},
   "source": [
    "The mnemonic provided for $\\Omega$ by Shankar is as follows:\n",
    "\"*The elements of the jth column represent the **image** of the jth basis vector after $\\Omega$ acts on it.*\" \n",
    "If this helps you then great!\n",
    "\n",
    "My personal mnemonic is:\n",
    "\"*The elements of the jth column tell us how much of each of the origional basis vectors we need to create our new jth basis vector.*\" \n",
    "\n",
    "This automatically treats each column as a new basis vector. Indeed the real intuition behind a linear operator lies in the fact that a linear operator performs a transformation of bases. When the bases are transformed, all vectors living in that vector space will transform as well automatically."
   ]
  }
 ],
 "metadata": {
  "kernelspec": {
   "display_name": "Python 3",
   "language": "python",
   "name": "python3"
  },
  "language_info": {
   "codemirror_mode": {
    "name": "ipython",
    "version": 3
   },
   "file_extension": ".py",
   "mimetype": "text/x-python",
   "name": "python",
   "nbconvert_exporter": "python",
   "pygments_lexer": "ipython3",
   "version": "3.8.3"
  }
 },
 "nbformat": 4,
 "nbformat_minor": 4
}
